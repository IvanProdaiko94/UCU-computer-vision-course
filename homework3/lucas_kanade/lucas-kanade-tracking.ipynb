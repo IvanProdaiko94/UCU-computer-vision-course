{
 "cells": [
  {
   "cell_type": "code",
   "execution_count": 19,
   "metadata": {},
   "outputs": [],
   "source": [
    "import os\n",
    "import io\n",
    "\n",
    "import cv2 as cv\n",
    "import numpy as np\n",
    "import pandas as pd\n",
    "\n",
    "from matplotlib import pyplot as plt\n",
    "from PIL import Image as pil_image\n",
    "from IPython.html import widgets\n",
    "\n",
    "from ipywidgets import interact, interact_manual\n",
    "from IPython.display import display, Image, clear_output"
   ]
  },
  {
   "cell_type": "markdown",
   "metadata": {},
   "source": [
    "# Utilities"
   ]
  },
  {
   "cell_type": "code",
   "execution_count": 20,
   "metadata": {},
   "outputs": [],
   "source": [
    "def imgs_show(imgs, rows, fontsize=36):\n",
    "    fig = plt.figure()\n",
    "    for n, (img, title) in enumerate(imgs):\n",
    "        a = fig.add_subplot(rows, np.ceil(len(imgs)/float(rows)), n + 1)\n",
    "        a.set_title(title, fontdict={\"fontsize\": fontsize})\n",
    "        plt.imshow(img)\n",
    "    fig.set_size_inches(np.array(fig.get_size_inches()) * len(imgs))\n",
    "    plt.show()\n",
    "\n",
    "def read_folder(folder, ext):\n",
    "    images = []\n",
    "    for filename in sorted(os.listdir(folder)):\n",
    "        if filename.endswith(ext):\n",
    "            path = os.path.join(folder, filename)\n",
    "            images.append(np.array(pil_image.open(path)))\n",
    "    return images\n",
    "\n",
    "def img_show(img, title = '', figsize=(10, 5)):\n",
    "    plt.figure(figsize=figsize)\n",
    "    plt.gray()\n",
    "    plt.imshow(img)\n",
    "    plt.title(title)\n",
    "    plt.show()\n",
    "\n",
    "def display_frames_sequence(frames):\n",
    "    def exec(i):\n",
    "        a = np.uint8(frames[i])\n",
    "        f = io.StringIO()\n",
    "\n",
    "        imgByteArr = io.BytesIO()\n",
    "        pil_image.fromarray(a, 'RGB').save(imgByteArr, format='PNG')\n",
    "        display(Image(data=imgByteArr.getvalue()))\n",
    "        \n",
    "    widgets.interact(exec, i=widgets.IntSlider(min=0, max=len(frames) - 1, step=1, value=0))\n",
    "    \n",
    "def read_frames_dataset(path, sep=',', ext='.jpg'):\n",
    "    frames = read_folder(os.path.join(path, 'img/'), ext)\n",
    "    df = pd.read_csv(os.path.join(path, 'groundtruth_rect.txt'), names=['x', 'y', 'w', 'h'], sep=sep)\n",
    "    return frames, df\n",
    "\n",
    "def enreach_single_frame_with_tracking_ractangle(frame, track_window, color=(0, 255, 0)):\n",
    "    x,y,w,h = track_window\n",
    "    return cv.rectangle(np.copy(frame), (x,y), (x+w,y+h), color, 2)\n",
    "\n",
    "def enreach_frames_with_tracking_ractangle(frames, tracking_df, color=(0, 255, 0)):\n",
    "    enreached_frames = []\n",
    "    for i, frame in enumerate(frames):\n",
    "        row = tracking_df.iloc[i]\n",
    "        enreached_frame = enreach_single_frame_with_tracking_ractangle(\n",
    "            frame, \n",
    "            (row['x'], row['y'], row['w'], row['h']),\n",
    "            color\n",
    "        )\n",
    "        enreached_frames.append(enreached_frame)\n",
    "    return enreached_frames"
   ]
  },
  {
   "cell_type": "markdown",
   "metadata": {},
   "source": [
    "# Load and configure data\n",
    "\n",
    "[Datasets source](http://cvlab.hanyang.ac.kr/tracker_benchmark/datasets.html)"
   ]
  },
  {
   "cell_type": "code",
   "execution_count": 21,
   "metadata": {},
   "outputs": [],
   "source": [
    "names = {\n",
    "    \"transformer\": './datasets/Transformer/',\n",
    "    \"bike\": './datasets/MountainBike/', \n",
    "    \"girl\": './datasets/Girl/', \n",
    "    \"bolt\": './datasets/Bolt/', \n",
    "    \"car\": './datasets/CarScale/'\n",
    "}"
   ]
  },
  {
   "cell_type": "code",
   "execution_count": 22,
   "metadata": {},
   "outputs": [
    {
     "data": {
      "text/html": [
       "<div>\n",
       "<style scoped>\n",
       "    .dataframe tbody tr th:only-of-type {\n",
       "        vertical-align: middle;\n",
       "    }\n",
       "\n",
       "    .dataframe tbody tr th {\n",
       "        vertical-align: top;\n",
       "    }\n",
       "\n",
       "    .dataframe thead th {\n",
       "        text-align: right;\n",
       "    }\n",
       "</style>\n",
       "<table border=\"1\" class=\"dataframe\">\n",
       "  <thead>\n",
       "    <tr style=\"text-align: right;\">\n",
       "      <th></th>\n",
       "      <th>x</th>\n",
       "      <th>y</th>\n",
       "      <th>w</th>\n",
       "      <th>h</th>\n",
       "    </tr>\n",
       "  </thead>\n",
       "  <tbody>\n",
       "    <tr>\n",
       "      <th>0</th>\n",
       "      <td>196</td>\n",
       "      <td>51</td>\n",
       "      <td>139</td>\n",
       "      <td>194</td>\n",
       "    </tr>\n",
       "    <tr>\n",
       "      <th>1</th>\n",
       "      <td>192</td>\n",
       "      <td>46</td>\n",
       "      <td>145</td>\n",
       "      <td>202</td>\n",
       "    </tr>\n",
       "    <tr>\n",
       "      <th>2</th>\n",
       "      <td>196</td>\n",
       "      <td>46</td>\n",
       "      <td>140</td>\n",
       "      <td>193</td>\n",
       "    </tr>\n",
       "    <tr>\n",
       "      <th>3</th>\n",
       "      <td>195</td>\n",
       "      <td>48</td>\n",
       "      <td>140</td>\n",
       "      <td>199</td>\n",
       "    </tr>\n",
       "    <tr>\n",
       "      <th>4</th>\n",
       "      <td>190</td>\n",
       "      <td>46</td>\n",
       "      <td>146</td>\n",
       "      <td>199</td>\n",
       "    </tr>\n",
       "  </tbody>\n",
       "</table>\n",
       "</div>"
      ],
      "text/plain": [
       "     x   y    w    h\n",
       "0  196  51  139  194\n",
       "1  192  46  145  202\n",
       "2  196  46  140  193\n",
       "3  195  48  140  199\n",
       "4  190  46  146  199"
      ]
     },
     "execution_count": 22,
     "metadata": {},
     "output_type": "execute_result"
    }
   ],
   "source": [
    "transformer, transformer_df = read_frames_dataset(names[\"transformer\"])\n",
    "bike, bike_df = read_frames_dataset(names[\"bike\"])\n",
    "girl, girl_df = read_frames_dataset(names[\"girl\"], sep='\\t')\n",
    "bolt, bolt_df = read_frames_dataset(names[\"bolt\"])\n",
    "\n",
    "car, car_df = read_frames_dataset(names[\"car\"], sep='\\t')\n",
    "\n",
    "# example\n",
    "transformer_df.head()"
   ]
  },
  {
   "cell_type": "markdown",
   "metadata": {},
   "source": [
    "# Lucas-Kanade"
   ]
  },
  {
   "cell_type": "code",
   "execution_count": null,
   "metadata": {},
   "outputs": [],
   "source": [
    "class LucasKanade:\n",
    "    def __init__(self):\n",
    "        pass\n",
    "    \n",
    "    @staticmethod\n",
    "    def run():\n",
    "        lk = LucasKanade()"
   ]
  },
  {
   "cell_type": "markdown",
   "metadata": {},
   "source": [
    "# \"Transformer\" dataset"
   ]
  },
  {
   "cell_type": "markdown",
   "metadata": {},
   "source": [
    "# \"Bike\" dataset"
   ]
  },
  {
   "cell_type": "markdown",
   "metadata": {},
   "source": [
    "# \"Girl\" dataset"
   ]
  },
  {
   "cell_type": "markdown",
   "metadata": {},
   "source": [
    "# \"Bolt\" dataset"
   ]
  },
  {
   "cell_type": "markdown",
   "metadata": {},
   "source": [
    "# \"CarScale\" dataset"
   ]
  },
  {
   "cell_type": "markdown",
   "metadata": {},
   "source": [
    "# Conclusions"
   ]
  },
  {
   "cell_type": "code",
   "execution_count": null,
   "metadata": {},
   "outputs": [],
   "source": []
  }
 ],
 "metadata": {
  "kernelspec": {
   "display_name": "Python 3",
   "language": "python",
   "name": "python3"
  },
  "language_info": {
   "codemirror_mode": {
    "name": "ipython",
    "version": 3
   },
   "file_extension": ".py",
   "mimetype": "text/x-python",
   "name": "python",
   "nbconvert_exporter": "python",
   "pygments_lexer": "ipython3",
   "version": "3.7.3"
  }
 },
 "nbformat": 4,
 "nbformat_minor": 2
}
