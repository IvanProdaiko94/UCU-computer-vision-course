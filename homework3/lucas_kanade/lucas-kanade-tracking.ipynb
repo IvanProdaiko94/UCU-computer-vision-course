{
 "cells": [
  {
   "cell_type": "code",
   "execution_count": 1,
   "metadata": {},
   "outputs": [
    {
     "name": "stderr",
     "output_type": "stream",
     "text": [
      "/usr/local/lib/python3.7/site-packages/IPython/html.py:14: ShimWarning: The `IPython.html` package has been deprecated since IPython 4.0. You should import from `notebook` instead. `IPython.html.widgets` has moved to `ipywidgets`.\n",
      "  \"`IPython.html.widgets` has moved to `ipywidgets`.\", ShimWarning)\n"
     ]
    }
   ],
   "source": [
    "import os\n",
    "import io\n",
    "\n",
    "import cv2 as cv\n",
    "import numpy as np\n",
    "import pandas as pd\n",
    "\n",
    "from matplotlib import pyplot as plt\n",
    "from PIL import Image as pil_image\n",
    "from IPython.html import widgets\n",
    "\n",
    "from ipywidgets import interact, interact_manual\n",
    "from IPython.display import display, Image, clear_output"
   ]
  },
  {
   "cell_type": "markdown",
   "metadata": {},
   "source": [
    "# Utilities"
   ]
  },
  {
   "cell_type": "code",
   "execution_count": 2,
   "metadata": {},
   "outputs": [],
   "source": [
    "def imgs_show(imgs, rows, fontsize=36):\n",
    "    fig = plt.figure()\n",
    "    for n, (img, title) in enumerate(imgs):\n",
    "        a = fig.add_subplot(rows, np.ceil(len(imgs)/float(rows)), n + 1)\n",
    "        a.set_title(title, fontdict={\"fontsize\": fontsize})\n",
    "        plt.imshow(img)\n",
    "    fig.set_size_inches(np.array(fig.get_size_inches()) * len(imgs))\n",
    "    plt.show()\n",
    "\n",
    "def read_folder(folder, ext):\n",
    "    images = []\n",
    "    for filename in sorted(os.listdir(folder)):\n",
    "        if filename.endswith(ext):\n",
    "            path = os.path.join(folder, filename)\n",
    "            images.append(np.array(pil_image.open(path)))\n",
    "    return images\n",
    "\n",
    "def img_show(img, title = '', figsize=(10, 5)):\n",
    "    plt.figure(figsize=figsize)\n",
    "    plt.gray()\n",
    "    plt.imshow(img)\n",
    "    plt.title(title)\n",
    "    plt.show()\n",
    "\n",
    "def display_frames_sequence(frames):\n",
    "    def exec(i):\n",
    "        a = np.uint8(frames[i])\n",
    "        f = io.StringIO()\n",
    "\n",
    "        imgByteArr = io.BytesIO()\n",
    "        pil_image.fromarray(a, 'RGB').save(imgByteArr, format='PNG')\n",
    "        display(Image(data=imgByteArr.getvalue()))\n",
    "        \n",
    "    widgets.interact(exec, i=widgets.IntSlider(min=0, max=len(frames) - 1, step=1, value=0))\n",
    "    \n",
    "def read_frames_dataset(path, ext='.jpg'):\n",
    "    frames = read_folder(os.path.join(path, 'img/'), ext)\n",
    "    df = pd.read_csv(os.path.join(path, 'groundtruth_rect.txt'), names=['x', 'y', 'w', 'h'])\n",
    "    return frames, df\n",
    "\n",
    "def enreach_single_frame_with_tracking_ractangle(frame, track_window, color=(0, 255, 0)):\n",
    "    x,y,w,h = track_window\n",
    "    return cv.rectangle(np.copy(frame), (x,y), (x+w,y+h), color, 2)\n",
    "\n",
    "def enreach_frames_with_tracking_ractangle(frames, tracking_df, color=(0, 255, 0)):\n",
    "    enreached_frames = []\n",
    "    for i, frame in enumerate(frames):\n",
    "        row = tracking_df.iloc[i]\n",
    "        enreached_frame = enreach_single_frame_with_tracking_ractangle(\n",
    "            frame, \n",
    "            (row['x'], row['y'], row['w'], row['h']),\n",
    "            color\n",
    "        )\n",
    "        enreached_frames.append(enreached_frame)\n",
    "    return enreached_frames"
   ]
  }
 ],
 "metadata": {
  "kernelspec": {
   "display_name": "Python 3",
   "language": "python",
   "name": "python3"
  },
  "language_info": {
   "codemirror_mode": {
    "name": "ipython",
    "version": 3
   },
   "file_extension": ".py",
   "mimetype": "text/x-python",
   "name": "python",
   "nbconvert_exporter": "python",
   "pygments_lexer": "ipython3",
   "version": "3.7.3"
  }
 },
 "nbformat": 4,
 "nbformat_minor": 2
}
