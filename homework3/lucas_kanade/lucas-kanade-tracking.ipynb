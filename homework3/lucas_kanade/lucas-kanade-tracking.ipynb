{
 "cells": [
  {
   "cell_type": "code",
   "execution_count": 1,
   "metadata": {},
   "outputs": [
    {
     "name": "stderr",
     "output_type": "stream",
     "text": [
      "/usr/local/lib/python3.7/site-packages/IPython/html.py:14: ShimWarning: The `IPython.html` package has been deprecated since IPython 4.0. You should import from `notebook` instead. `IPython.html.widgets` has moved to `ipywidgets`.\n",
      "  \"`IPython.html.widgets` has moved to `ipywidgets`.\", ShimWarning)\n"
     ]
    }
   ],
   "source": [
    "import os\n",
    "import io\n",
    "\n",
    "import cv2 as cv\n",
    "import numpy as np\n",
    "import pandas as pd\n",
    "\n",
    "from matplotlib import pyplot as plt\n",
    "from PIL import Image as pil_image\n",
    "from IPython.html import widgets\n",
    "\n",
    "from ipywidgets import interact, interact_manual\n",
    "from IPython.display import display, Image, clear_output"
   ]
  },
  {
   "cell_type": "markdown",
   "metadata": {},
   "source": [
    "# Utilities"
   ]
  },
  {
   "cell_type": "code",
   "execution_count": 2,
   "metadata": {},
   "outputs": [],
   "source": [
    "def read_folder(folder, ext):\n",
    "    images = []\n",
    "    for filename in sorted(os.listdir(folder)):\n",
    "        if filename.endswith(ext):\n",
    "            path = os.path.join(folder, filename)\n",
    "            images.append(np.array(pil_image.open(path)))\n",
    "    return images\n",
    "\n",
    "def display_frames_sequence(frames):\n",
    "    def exec(i):\n",
    "        a = np.uint8(frames[i])\n",
    "        f = io.StringIO()\n",
    "\n",
    "        imgByteArr = io.BytesIO()\n",
    "        pil_image.fromarray(a, 'RGB').save(imgByteArr, format='PNG')\n",
    "        display(Image(data=imgByteArr.getvalue()))\n",
    "        \n",
    "    widgets.interact(exec, i=widgets.IntSlider(min=0, max=len(frames) - 1, step=1, value=0))\n",
    "    \n",
    "def read_frames_dataset(path, sep=',', ext='.jpg'):\n",
    "    frames = read_folder(os.path.join(path, 'img/'), ext)\n",
    "    df = pd.read_csv(os.path.join(path, 'groundtruth_rect.txt'), names=['x', 'y', 'w', 'h'], sep=sep)\n",
    "    return frames, df\n",
    "\n",
    "def enreach_single_frame_with_circles(frame, points, color=(255, 0, 0)):\n",
    "    frame = np.copy(frame)\n",
    "    for point in points:\n",
    "        cv.circle(frame, (int(point[0][0]), int(point[0][1])), 3, color, -1)\n",
    "    return frame\n",
    "\n",
    "def write_video(path, frames):\n",
    "    fourcc = cv.VideoWriter_fourcc(*'MP4V')\n",
    "    h, w = frames[0].shape[:2]\n",
    "    out = cv.VideoWriter(path + \".mp4\", fourcc, 24, (w, h)) \n",
    "    for frame in frames:\n",
    "        out.write(cv.cvtColor(frame, cv.COLOR_BGR2RGB))\n",
    "    cv.destroyAllWindows()\n",
    "    out.release()"
   ]
  },
  {
   "cell_type": "markdown",
   "metadata": {},
   "source": [
    "# Load and configure data\n",
    "\n",
    "[Datasets source](http://cvlab.hanyang.ac.kr/tracker_benchmark/datasets.html)"
   ]
  },
  {
   "cell_type": "code",
   "execution_count": 3,
   "metadata": {},
   "outputs": [],
   "source": [
    "names = {\n",
    "    \"bike\": './datasets/MountainBike/',\n",
    "    \"bolt\": './datasets/Bolt/', \n",
    "    \"car\": './datasets/CarScale/'\n",
    "}"
   ]
  },
  {
   "cell_type": "code",
   "execution_count": 4,
   "metadata": {},
   "outputs": [
    {
     "data": {
      "text/html": [
       "<div>\n",
       "<style scoped>\n",
       "    .dataframe tbody tr th:only-of-type {\n",
       "        vertical-align: middle;\n",
       "    }\n",
       "\n",
       "    .dataframe tbody tr th {\n",
       "        vertical-align: top;\n",
       "    }\n",
       "\n",
       "    .dataframe thead th {\n",
       "        text-align: right;\n",
       "    }\n",
       "</style>\n",
       "<table border=\"1\" class=\"dataframe\">\n",
       "  <thead>\n",
       "    <tr style=\"text-align: right;\">\n",
       "      <th></th>\n",
       "      <th>x</th>\n",
       "      <th>y</th>\n",
       "      <th>w</th>\n",
       "      <th>h</th>\n",
       "    </tr>\n",
       "  </thead>\n",
       "  <tbody>\n",
       "    <tr>\n",
       "      <th>0</th>\n",
       "      <td>319</td>\n",
       "      <td>185</td>\n",
       "      <td>67</td>\n",
       "      <td>56</td>\n",
       "    </tr>\n",
       "    <tr>\n",
       "      <th>1</th>\n",
       "      <td>316</td>\n",
       "      <td>183</td>\n",
       "      <td>67</td>\n",
       "      <td>56</td>\n",
       "    </tr>\n",
       "    <tr>\n",
       "      <th>2</th>\n",
       "      <td>315</td>\n",
       "      <td>182</td>\n",
       "      <td>66</td>\n",
       "      <td>56</td>\n",
       "    </tr>\n",
       "    <tr>\n",
       "      <th>3</th>\n",
       "      <td>313</td>\n",
       "      <td>181</td>\n",
       "      <td>66</td>\n",
       "      <td>56</td>\n",
       "    </tr>\n",
       "    <tr>\n",
       "      <th>4</th>\n",
       "      <td>311</td>\n",
       "      <td>181</td>\n",
       "      <td>66</td>\n",
       "      <td>55</td>\n",
       "    </tr>\n",
       "  </tbody>\n",
       "</table>\n",
       "</div>"
      ],
      "text/plain": [
       "     x    y   w   h\n",
       "0  319  185  67  56\n",
       "1  316  183  67  56\n",
       "2  315  182  66  56\n",
       "3  313  181  66  56\n",
       "4  311  181  66  55"
      ]
     },
     "execution_count": 4,
     "metadata": {},
     "output_type": "execute_result"
    }
   ],
   "source": [
    "bike, bike_df = read_frames_dataset(names[\"bike\"])\n",
    "bolt, bolt_df = read_frames_dataset(names[\"bolt\"])\n",
    "car, car_df = read_frames_dataset(names[\"car\"], sep='\\t')\n",
    "\n",
    "# example\n",
    "bike_df.head()"
   ]
  },
  {
   "cell_type": "markdown",
   "metadata": {},
   "source": [
    "# Lucas-Kanade"
   ]
  },
  {
   "cell_type": "code",
   "execution_count": 5,
   "metadata": {},
   "outputs": [],
   "source": [
    "class LucasKanade:\n",
    "    \n",
    "    TERMINATION_CRITERIA = (cv.TERM_CRITERIA_EPS | cv.TERM_CRITERIA_COUNT, 10, 1)\n",
    "    \n",
    "    def __init__(self, init_frame, roi, use_pyramidal_extension=False):\n",
    "        self.max_level = 0 if use_pyramidal_extension else 8\n",
    "        self.init_frame = cv.cvtColor(init_frame, cv.COLOR_BGR2GRAY)\n",
    "        self.template = self.init_frame[roi[\"y\"]:roi[\"y\"] + roi[\"h\"], roi[\"x\"]:roi[\"x\"] + roi[\"w\"]]\n",
    "        self.roi = roi\n",
    "        self.gftt = None\n",
    "        self.points = None\n",
    "        \n",
    "    def fit(self):\n",
    "        gftt = cv.goodFeaturesToTrack(\n",
    "            self.template, \n",
    "            mask=None, \n",
    "            maxCorners=30, \n",
    "            qualityLevel=0.02, \n",
    "            minDistance=6,\n",
    "            blockSize=6,\n",
    "        )\n",
    "        self.points = np.add(gftt, np.array([self.roi[\"x\"], self.roi[\"y\"]]))\n",
    "        self.points = self.points.astype(np.float32)\n",
    "        return self.points\n",
    "       \n",
    "    def predict(self, frame):\n",
    "        frame = cv.cvtColor(frame, cv.COLOR_BGR2GRAY)\n",
    "        self.points, _, _ = cv.calcOpticalFlowPyrLK(\n",
    "            self.init_frame,\n",
    "            frame,\n",
    "            self.points,\n",
    "            None,\n",
    "            winSize=(25, 25),\n",
    "            maxLevel=self.max_level,\n",
    "            criteria=LucasKanade.TERMINATION_CRITERIA\n",
    "        )\n",
    "        \n",
    "        self.init_frame = frame\n",
    "        return self.points\n",
    "    \n",
    "    @staticmethod\n",
    "    def run(frames, df, use_pyramidal_extension=True): \n",
    "        init = df.iloc[0]\n",
    "        lk = LucasKanade(frames[0], init, use_pyramidal_extension=use_pyramidal_extension)\n",
    "        \n",
    "        points = lk.fit()\n",
    "        result = [points]\n",
    "        enreached_frames = [enreach_single_frame_with_circles(frames[0], points)]\n",
    "        \n",
    "        for frame in frames[1:]:\n",
    "            points = lk.predict(frame)\n",
    "            \n",
    "            result.append(points)\n",
    "            enreached_frames.append(enreach_single_frame_with_circles(frame, points))\n",
    "            \n",
    "        return enreached_frames"
   ]
  },
  {
   "cell_type": "markdown",
   "metadata": {},
   "source": [
    "# \"Bike\" dataset"
   ]
  },
  {
   "cell_type": "code",
   "execution_count": 6,
   "metadata": {},
   "outputs": [
    {
     "data": {
      "application/vnd.jupyter.widget-view+json": {
       "model_id": "1e47c180486a450688a9c86f5f7cca8c",
       "version_major": 2,
       "version_minor": 0
      },
      "text/plain": [
       "interactive(children=(IntSlider(value=0, description='i', max=227), Output()), _dom_classes=('widget-interact'…"
      ]
     },
     "metadata": {},
     "output_type": "display_data"
    }
   ],
   "source": [
    "enreached_frames_bike = LucasKanade.run(bike, bike_df)\n",
    "display_frames_sequence(enreached_frames_bike)\n",
    "write_video(\"./results/lk_bike\", enreached_frames_bike)"
   ]
  },
  {
   "cell_type": "markdown",
   "metadata": {},
   "source": [
    "# \"Bolt\" dataset"
   ]
  },
  {
   "cell_type": "code",
   "execution_count": 7,
   "metadata": {},
   "outputs": [
    {
     "data": {
      "application/vnd.jupyter.widget-view+json": {
       "model_id": "bde1616003594b9f8fdb8eebfff5911a",
       "version_major": 2,
       "version_minor": 0
      },
      "text/plain": [
       "interactive(children=(IntSlider(value=0, description='i', max=349), Output()), _dom_classes=('widget-interact'…"
      ]
     },
     "metadata": {},
     "output_type": "display_data"
    }
   ],
   "source": [
    "enreached_frames_bolt = LucasKanade.run(bolt, bolt_df)\n",
    "display_frames_sequence(enreached_frames_bolt)\n",
    "write_video(\"./results/lk_bolt\", enreached_frames_bolt)"
   ]
  },
  {
   "cell_type": "markdown",
   "metadata": {},
   "source": [
    "# \"CarScale\" dataset"
   ]
  },
  {
   "cell_type": "code",
   "execution_count": 8,
   "metadata": {},
   "outputs": [
    {
     "data": {
      "application/vnd.jupyter.widget-view+json": {
       "model_id": "79a9d37595f64012b321be6728282f3a",
       "version_major": 2,
       "version_minor": 0
      },
      "text/plain": [
       "interactive(children=(IntSlider(value=0, description='i', max=251), Output()), _dom_classes=('widget-interact'…"
      ]
     },
     "metadata": {},
     "output_type": "display_data"
    }
   ],
   "source": [
    "enreached_frames_car = LucasKanade.run(car, car_df)\n",
    "display_frames_sequence(enreached_frames_car)\n",
    "write_video(\"./results/lk_car\", enreached_frames_car)"
   ]
  },
  {
   "cell_type": "markdown",
   "metadata": {},
   "source": [
    "# Conclusions"
   ]
  },
  {
   "cell_type": "markdown",
   "metadata": {},
   "source": [
    "**Lucas-Kanade method** works well when object has no destortions on foreground and background has homogenious structure, otherwise, points are being lost during the tracking process."
   ]
  }
 ],
 "metadata": {
  "kernelspec": {
   "display_name": "Python 3",
   "language": "python",
   "name": "python3"
  },
  "language_info": {
   "codemirror_mode": {
    "name": "ipython",
    "version": 3
   },
   "file_extension": ".py",
   "mimetype": "text/x-python",
   "name": "python",
   "nbconvert_exporter": "python",
   "pygments_lexer": "ipython3",
   "version": "3.7.3"
  }
 },
 "nbformat": 4,
 "nbformat_minor": 2
}
