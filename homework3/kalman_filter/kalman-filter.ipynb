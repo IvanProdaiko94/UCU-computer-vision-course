{
 "cells": [
  {
   "cell_type": "code",
   "execution_count": 1,
   "metadata": {},
   "outputs": [
    {
     "name": "stderr",
     "output_type": "stream",
     "text": [
      "/usr/local/lib/python3.7/site-packages/IPython/html.py:14: ShimWarning: The `IPython.html` package has been deprecated since IPython 4.0. You should import from `notebook` instead. `IPython.html.widgets` has moved to `ipywidgets`.\n",
      "  \"`IPython.html.widgets` has moved to `ipywidgets`.\", ShimWarning)\n"
     ]
    }
   ],
   "source": [
    "import cv2 as cv\n",
    "import numpy as np\n",
    "import io\n",
    "\n",
    "import pyautogui\n",
    "import time\n",
    "\n",
    "from IPython.html import widgets\n",
    "from ipywidgets import interact, interact_manual, IntProgress\n",
    "from IPython.display import display, Image, clear_output\n",
    "from PIL import Image as pil_image"
   ]
  },
  {
   "cell_type": "markdown",
   "metadata": {},
   "source": [
    "# Utilities"
   ]
  },
  {
   "cell_type": "code",
   "execution_count": 2,
   "metadata": {},
   "outputs": [],
   "source": [
    "def track_mouse(maximum = 2000, frequency = 0.01):\n",
    "    f = IntProgress(min=0, max=maximum, description='Recording:', bar_style='info')\n",
    "    result = []\n",
    "    try:\n",
    "        print('\\nStart mouse tracking...')\n",
    "        display(f)\n",
    "        while True:\n",
    "            x, y = pyautogui.position()\n",
    "            result.append((x, y))\n",
    "            time.sleep(frequency)\n",
    "            f.value += 1\n",
    "            if f.value == maximum:\n",
    "                raise KeyboardInterrupt\n",
    "    except KeyboardInterrupt:\n",
    "        print('\\nFinish mouse tracking.')\n",
    "        return result\n",
    "\n",
    "def display_frames_sequence(frames):\n",
    "    def exec(i):\n",
    "        a = np.uint8(frames[i])\n",
    "        f = io.StringIO()\n",
    "\n",
    "        imgByteArr = io.BytesIO()\n",
    "        pil_image.fromarray(a, 'RGB').save(imgByteArr, format='PNG')\n",
    "        display(Image(data=imgByteArr.getvalue()))\n",
    "        \n",
    "    widgets.interact(exec, i=widgets.IntSlider(min=0, max=len(frames) - 1, step=1, value=0))\n",
    "    \n",
    "def write_video(path, frames):\n",
    "    fourcc = cv.VideoWriter_fourcc(*'MP4V')\n",
    "    h, w = frames[0].shape[:2]\n",
    "    out = cv.VideoWriter(path + \".mp4\", fourcc, 60, (w, h)) \n",
    "    for frame in frames:\n",
    "        out.write(cv.cvtColor(frame, cv.COLOR_BGR2RGB))\n",
    "    cv.destroyAllWindows()\n",
    "    out.release()\n",
    "        \n",
    "def draw_points(points, screen_size, frames, points_to_draw = 100, color=(0,255,0), point_size=6):\n",
    "    recent = []\n",
    "    for i, point in enumerate(points):\n",
    "        img = frames[i] if i < len(frames) else np.zeros((screen_size[1],screen_size[0], 3), np.uint8)\n",
    "        cv.circle(img, point, point_size, color, -11)\n",
    "        # draw recent points\n",
    "        for prev_point in recent:\n",
    "            cv.circle(img, prev_point, point_size, color, -11)\n",
    "        recent.append(point)\n",
    "        if i > points_to_draw:\n",
    "            recent.pop(0)\n",
    "            \n",
    "        if i < len(frames):\n",
    "            frames[i] = img\n",
    "        else:\n",
    "            frames.append(img)\n",
    "    return frames"
   ]
  },
  {
   "cell_type": "markdown",
   "metadata": {},
   "source": [
    "# Create dataset"
   ]
  },
  {
   "cell_type": "code",
   "execution_count": 10,
   "metadata": {},
   "outputs": [
    {
     "name": "stdout",
     "output_type": "stream",
     "text": [
      "\n",
      "Start mouse tracking...\n"
     ]
    },
    {
     "data": {
      "application/vnd.jupyter.widget-view+json": {
       "model_id": "4f7e7465fdb149dfa8f8bf1de3c5f044",
       "version_major": 2,
       "version_minor": 0
      },
      "text/plain": [
       "IntProgress(value=0, bar_style='info', description='Recording:', max=2000)"
      ]
     },
     "metadata": {},
     "output_type": "display_data"
    },
    {
     "name": "stdout",
     "output_type": "stream",
     "text": [
      "\n",
      "Finish mouse tracking.\n",
      "Screen size: Size(width=1440, height=900).\n",
      "Tracked 2000 events\n"
     ]
    }
   ],
   "source": [
    "true_data = track_mouse(frequency=0.005)\n",
    "screen_size = pyautogui.size()\n",
    "print(\"Screen size: {}.\\nTracked {} events\".format(screen_size, len(true_data)))"
   ]
  },
  {
   "cell_type": "code",
   "execution_count": 11,
   "metadata": {},
   "outputs": [
    {
     "data": {
      "application/vnd.jupyter.widget-view+json": {
       "model_id": "68ccf0cd9bf74cb6ab767c32a5c9e9d1",
       "version_major": 2,
       "version_minor": 0
      },
      "text/plain": [
       "interactive(children=(IntSlider(value=0, description='i', max=1999), Output()), _dom_classes=('widget-interact…"
      ]
     },
     "metadata": {},
     "output_type": "display_data"
    }
   ],
   "source": [
    "frames = draw_points(true_data, screen_size, [])\n",
    "display_frames_sequence(frames)"
   ]
  },
  {
   "cell_type": "markdown",
   "metadata": {},
   "source": [
    "# Add random noise\n",
    "\n",
    "Lets add some random noise to our true data. \n",
    "\n",
    "We assume that true value is a mean (expectation) of normal distribution with some variance), so we need to substitute the true value with some noisy one laying on this distrubution."
   ]
  },
  {
   "cell_type": "code",
   "execution_count": 12,
   "metadata": {},
   "outputs": [],
   "source": [
    "sigma = 20 # value defined by user\n",
    "noisy_data = [(int(np.random.normal(x, sigma, 1)), int(np.random.normal(y, sigma, 1)))for (x, y) in true_data]"
   ]
  },
  {
   "cell_type": "code",
   "execution_count": 13,
   "metadata": {},
   "outputs": [
    {
     "data": {
      "application/vnd.jupyter.widget-view+json": {
       "model_id": "7476fd7f980f4c4c9905d1e17dc6ab83",
       "version_major": 2,
       "version_minor": 0
      },
      "text/plain": [
       "interactive(children=(IntSlider(value=0, description='i', max=1999), Output()), _dom_classes=('widget-interact…"
      ]
     },
     "metadata": {},
     "output_type": "display_data"
    }
   ],
   "source": [
    "with_noise = draw_points(noisy_data, screen_size, frames, color=(255,0,0), point_size=3)\n",
    "display_frames_sequence(with_noise)"
   ]
  },
  {
   "cell_type": "markdown",
   "metadata": {},
   "source": [
    "# Kalman filter\n",
    "\n",
    "[Application example](https://www.cs.utexas.edu/~teammco/misc/kalman_filter/)\n",
    "\n",
    "[Article with explenation and intuition for Kalman filter](https://www.bzarg.com/p/how-a-kalman-filter-works-in-pictures/)\n",
    "\n",
    "**The Kalman Filter estimates the true state of an object given noisy input (input with some inaccuracy)**. In the case of this simulation, the Kalman Filter estimates the true position of your cursor when there is random input noise. It can also predict the future state using past readings (i.e. the most likely position of your cursor after n seconds)."
   ]
  },
  {
   "cell_type": "code",
   "execution_count": 14,
   "metadata": {},
   "outputs": [],
   "source": [
    "class KalmanFilter:\n",
    "    def __init__(self):\n",
    "        # A Matrix - State Transition\n",
    "        self.A = np.array([\n",
    "            [1, 0, 0.2,  0],\n",
    "            [0, 1, 0,  0.2],\n",
    "            [0, 0, 1,    0],\n",
    "            [0, 0, 0,    1]\n",
    "        ])\n",
    "        \n",
    "        # H Matrix - Measurement\n",
    "        self.H = np.array([\n",
    "            [1, 0, 1, 0],\n",
    "            [0, 1, 0, 1],\n",
    "            [0, 0, 0, 0],\n",
    "            [0, 0, 0, 0]\n",
    "        ])\n",
    "        \n",
    "        # Q Matrix - Action Uncertainty\n",
    "        self.Q = np.diag([0, 0, .1, .1])\n",
    "\n",
    "        # R Matrix - Sensor Noise\n",
    "        self.R = np.diag([.1, .1, .1, .1])\n",
    "        \n",
    "        self.x = np.array([0, 0, 0, 0])\n",
    "        \n",
    "        # P Matrix - prediction matrix\n",
    "        self.P = np.zeros((4, 4))\n",
    "        \n",
    "        self.I = np.identity(4)\n",
    "    \n",
    "    def predict(self):\n",
    "        self.x = self.A.dot(self.x)\n",
    "        self.P = self.A.dot(self.P).dot(self.A.T) + self.Q\n",
    "        return self.x\n",
    "    \n",
    "    def correct(self, x, y, prev_x, prev_y):\n",
    "        \"\"\"\n",
    "            x, y - coordinates of current position\n",
    "            prev_x, prev_y - coordinates of previous position (used for calculation the velocity). \n",
    "            we assume that position and velocity correlate\n",
    "        \"\"\"\n",
    "        m = np.array([x, y, x - prev_x, y - prev_y])\n",
    "        \n",
    "        self.S = self.H.dot(self.P).dot(self.H.T) + self.R\n",
    "        K = self.P.dot(self.H.T).dot(np.linalg.inv(self.S))\n",
    "        Y = m - self.H.dot(self.x)\n",
    "        self.x = self.x + K.dot(Y)\n",
    "        self.P = (self.I - K.dot(self.H)).dot(self.P)\n",
    "    \n",
    "    @staticmethod\n",
    "    def run(measurements):\n",
    "        kf = KalmanFilter()\n",
    "        predictions = []\n",
    "        prev_x, prev_y = 0, 0\n",
    "        for (x, y) in measurements:\n",
    "            pred_x, pred_y, _, _ = kf.predict()\n",
    "            predictions.append((int(pred_x), int(pred_y)))\n",
    "            kf.correct(x, y, prev_x, prev_y)\n",
    "            prev_x = x\n",
    "            prev_y = y\n",
    "        return predictions"
   ]
  },
  {
   "cell_type": "markdown",
   "metadata": {},
   "source": [
    "# Test"
   ]
  },
  {
   "cell_type": "code",
   "execution_count": 15,
   "metadata": {},
   "outputs": [
    {
     "data": {
      "application/vnd.jupyter.widget-view+json": {
       "model_id": "aa4cb1944a39403c861792c1348bcbb1",
       "version_major": 2,
       "version_minor": 0
      },
      "text/plain": [
       "interactive(children=(IntSlider(value=0, description='i', max=1999), Output()), _dom_classes=('widget-interact…"
      ]
     },
     "metadata": {},
     "output_type": "display_data"
    }
   ],
   "source": [
    "estimated = KalmanFilter.run(noisy_data)\n",
    "with_estimated = draw_points(estimated, screen_size, frames, color=(0,0,255))\n",
    "display_frames_sequence(with_estimated)"
   ]
  },
  {
   "cell_type": "markdown",
   "metadata": {},
   "source": [
    "# Save result of the experiment"
   ]
  },
  {
   "cell_type": "code",
   "execution_count": 16,
   "metadata": {},
   "outputs": [],
   "source": [
    "write_video('result', with_estimated)"
   ]
  }
 ],
 "metadata": {
  "kernelspec": {
   "display_name": "Python 3",
   "language": "python",
   "name": "python3"
  },
  "language_info": {
   "codemirror_mode": {
    "name": "ipython",
    "version": 3
   },
   "file_extension": ".py",
   "mimetype": "text/x-python",
   "name": "python",
   "nbconvert_exporter": "python",
   "pygments_lexer": "ipython3",
   "version": "3.7.3"
  }
 },
 "nbformat": 4,
 "nbformat_minor": 2
}
