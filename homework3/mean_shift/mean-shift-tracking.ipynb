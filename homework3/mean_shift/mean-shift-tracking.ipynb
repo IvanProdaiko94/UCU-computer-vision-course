{
 "cells": [
  {
   "cell_type": "code",
   "execution_count": 1,
   "metadata": {},
   "outputs": [
    {
     "name": "stderr",
     "output_type": "stream",
     "text": [
      "/usr/local/lib/python3.7/site-packages/IPython/html.py:14: ShimWarning: The `IPython.html` package has been deprecated since IPython 4.0. You should import from `notebook` instead. `IPython.html.widgets` has moved to `ipywidgets`.\n",
      "  \"`IPython.html.widgets` has moved to `ipywidgets`.\", ShimWarning)\n"
     ]
    }
   ],
   "source": [
    "import os\n",
    "import io\n",
    "\n",
    "import cv2 as cv\n",
    "import numpy as np\n",
    "import pandas as pd\n",
    "\n",
    "from matplotlib import pyplot as plt\n",
    "from PIL import Image as pil_image\n",
    "from IPython.html import widgets\n",
    "\n",
    "from ipywidgets import interact, interact_manual\n",
    "from IPython.display import display, Image, clear_output"
   ]
  },
  {
   "cell_type": "markdown",
   "metadata": {},
   "source": [
    "# Utilities"
   ]
  },
  {
   "cell_type": "code",
   "execution_count": 80,
   "metadata": {},
   "outputs": [],
   "source": [
    "def imgs_show(imgs, rows, fontsize=36):\n",
    "    fig = plt.figure()\n",
    "    for n, (img, title) in enumerate(imgs):\n",
    "        a = fig.add_subplot(rows, np.ceil(len(imgs)/float(rows)), n + 1)\n",
    "        a.set_title(title, fontdict={\"fontsize\": fontsize})\n",
    "        plt.imshow(img)\n",
    "    fig.set_size_inches(np.array(fig.get_size_inches()) * len(imgs))\n",
    "    plt.show()\n",
    "\n",
    "def read_folder(folder, ext):\n",
    "    images = []\n",
    "    for filename in sorted(os.listdir(folder)):\n",
    "        if filename.endswith(ext):\n",
    "            path = os.path.join(folder, filename)\n",
    "            images.append(np.array(pil_image.open(path)))\n",
    "    return images\n",
    "\n",
    "def img_show(img, title = '', figsize=(10, 5)):\n",
    "    plt.figure(figsize=figsize)\n",
    "    plt.gray()\n",
    "    plt.imshow(img)\n",
    "    plt.title(title)\n",
    "    plt.show()\n",
    "\n",
    "def display_frames_sequence(frames):\n",
    "    def exec(i):\n",
    "        a = np.uint8(frames[i])\n",
    "        f = io.StringIO()\n",
    "\n",
    "        imgByteArr = io.BytesIO()\n",
    "        pil_image.fromarray(a, 'RGB').save(imgByteArr, format='PNG')\n",
    "        display(Image(data=imgByteArr.getvalue()))\n",
    "        \n",
    "    widgets.interact(exec, i=widgets.IntSlider(min=0, max=len(frames) - 1, step=1, value=0))\n",
    "    \n",
    "def read_frames_dataset(path, ext='.jpg'):\n",
    "    frames = read_folder(os.path.join(path, 'img/'), ext)\n",
    "    df = pd.read_csv(os.path.join(path, 'groundtruth_rect.txt'), names=['x', 'y', 'w', 'h'])\n",
    "    return frames, df\n",
    "\n",
    "def enreach_single_frame_with_tracking_ractangle(frame, track_window, color=(0, 255, 0)):\n",
    "    x,y,w,h = track_window\n",
    "    return cv.rectangle(np.copy(frame), (x,y), (x+w,y+h), color, 2)\n",
    "\n",
    "def enreach_frames_with_tracking_ractangle(frames, tracking_df, color=(0, 255, 0)):\n",
    "    enreached_frames = []\n",
    "    for i, frame in enumerate(frames):\n",
    "        row = tracking_df.iloc[i]\n",
    "        enreached_frame = enreach_single_frame_with_tracking_ractangle(\n",
    "            frame, \n",
    "            (row['x'], row['y'], row['w'], row['h']),\n",
    "            color\n",
    "        )\n",
    "        enreached_frames.append(enreached_frame)\n",
    "    return enreached_frames"
   ]
  },
  {
   "cell_type": "markdown",
   "metadata": {},
   "source": [
    "# Load and configure data"
   ]
  },
  {
   "cell_type": "code",
   "execution_count": 6,
   "metadata": {},
   "outputs": [],
   "source": [
    "names = {\n",
    "    \"transformer\": './datasets/Transformer/',\n",
    "    \"bike\": './datasets/MountainBike/', \n",
    "    \"football\": './datasets/Football1/', \n",
    "    \"bolt\": './datasets/Bolt/', \n",
    "    \"panda\": './datasets/Panda/'\n",
    "}"
   ]
  },
  {
   "cell_type": "code",
   "execution_count": 81,
   "metadata": {},
   "outputs": [
    {
     "data": {
      "text/html": [
       "<div>\n",
       "<style scoped>\n",
       "    .dataframe tbody tr th:only-of-type {\n",
       "        vertical-align: middle;\n",
       "    }\n",
       "\n",
       "    .dataframe tbody tr th {\n",
       "        vertical-align: top;\n",
       "    }\n",
       "\n",
       "    .dataframe thead th {\n",
       "        text-align: right;\n",
       "    }\n",
       "</style>\n",
       "<table border=\"1\" class=\"dataframe\">\n",
       "  <thead>\n",
       "    <tr style=\"text-align: right;\">\n",
       "      <th></th>\n",
       "      <th>x</th>\n",
       "      <th>y</th>\n",
       "      <th>w</th>\n",
       "      <th>h</th>\n",
       "    </tr>\n",
       "  </thead>\n",
       "  <tbody>\n",
       "    <tr>\n",
       "      <th>0</th>\n",
       "      <td>196</td>\n",
       "      <td>51</td>\n",
       "      <td>139</td>\n",
       "      <td>194</td>\n",
       "    </tr>\n",
       "    <tr>\n",
       "      <th>1</th>\n",
       "      <td>192</td>\n",
       "      <td>46</td>\n",
       "      <td>145</td>\n",
       "      <td>202</td>\n",
       "    </tr>\n",
       "    <tr>\n",
       "      <th>2</th>\n",
       "      <td>196</td>\n",
       "      <td>46</td>\n",
       "      <td>140</td>\n",
       "      <td>193</td>\n",
       "    </tr>\n",
       "    <tr>\n",
       "      <th>3</th>\n",
       "      <td>195</td>\n",
       "      <td>48</td>\n",
       "      <td>140</td>\n",
       "      <td>199</td>\n",
       "    </tr>\n",
       "    <tr>\n",
       "      <th>4</th>\n",
       "      <td>190</td>\n",
       "      <td>46</td>\n",
       "      <td>146</td>\n",
       "      <td>199</td>\n",
       "    </tr>\n",
       "  </tbody>\n",
       "</table>\n",
       "</div>"
      ],
      "text/plain": [
       "     x   y    w    h\n",
       "0  196  51  139  194\n",
       "1  192  46  145  202\n",
       "2  196  46  140  193\n",
       "3  195  48  140  199\n",
       "4  190  46  146  199"
      ]
     },
     "execution_count": 81,
     "metadata": {},
     "output_type": "execute_result"
    }
   ],
   "source": [
    "transformer, transformer_df = read_frames_dataset(names[0])\n",
    "mountain_bike, mountain_bike_df = read_frames_dataset(names[1])\n",
    "football, football_df = read_frames_dataset(names[2])\n",
    "bolt, bolt_df = read_frames_dataset(names[3])\n",
    "panda, panda_df = read_frames_dataset(names[4])\n",
    "\n",
    "# example\n",
    "transformer_df.head()"
   ]
  },
  {
   "cell_type": "code",
   "execution_count": 138,
   "metadata": {},
   "outputs": [
    {
     "data": {
      "application/vnd.jupyter.widget-view+json": {
       "model_id": "c5994e26ab60401cb0e2954d89193ad7",
       "version_major": 2,
       "version_minor": 0
      },
      "text/plain": [
       "interactive(children=(IntSlider(value=0, description='i', max=227), Output()), _dom_classes=('widget-interact'…"
      ]
     },
     "metadata": {},
     "output_type": "display_data"
    }
   ],
   "source": [
    "display_frames_sequence(enreach_frames_with_tracking_ractangle(mountain_bike, mountain_bike_df))"
   ]
  },
  {
   "cell_type": "markdown",
   "metadata": {},
   "source": [
    "# Mean shift"
   ]
  },
  {
   "cell_type": "code",
   "execution_count": 174,
   "metadata": {},
   "outputs": [],
   "source": [
    "class MeanShift:\n",
    "    \n",
    "    # The termination criteria, either 10 iteration or move by atleast 1 pt\n",
    "    TERMINATION_CRITERIA = (cv.TERM_CRITERIA_EPS | cv.TERM_CRITERIA_COUNT, 10, 1)\n",
    "    \n",
    "    COLOR_RED = (255, 0, 0)\n",
    "    COLOR_GREEN = (0, 255, 0)\n",
    "    \n",
    "    HIST_RANGE = [0, 180]\n",
    "    HIST_SIZE = [180]\n",
    "    \n",
    "    SCALE = 1\n",
    "    \n",
    "    def __init__(self, init_frame, config):\n",
    "        self.init_frame = init_frame\n",
    "        self.config = config\n",
    "    \n",
    "    @staticmethod\n",
    "    def normalize_frame(img):\n",
    "        normalized_img = np.copy(img)\n",
    "        s = np.sum(img, axis=2)\n",
    "        for i in range(img.shape[2]):\n",
    "            normalized_img[:, :, i] = np.divide(img[:, :, i], s) * 255\n",
    "        return normalized_img\n",
    "        \n",
    "    def fit(self, normalize=False):\n",
    "        x, y, w, h = self.config[\"track_window\"]\n",
    "        roi = self.init_frame[y:y + h, x:x + w]\n",
    "        img_show(roi)\n",
    "        \n",
    "        if normalize:\n",
    "            roi = MeanShift.normalize_frame(roi)\n",
    "        \n",
    "        new_roi = cv.cvtColor(roi, cv.COLOR_BGR2HSV)\n",
    "        \n",
    "        mask = cv.inRange(new_roi, np.array(self.config[\"ranges\"][\"min\"]), np.array(self.config[\"ranges\"][\"max\"]))\n",
    "        \n",
    "        imgs_show([\n",
    "            (roi, \"roi\"),\n",
    "            (new_roi, \"hsv roi\"),\n",
    "            (new_roi[:,:,0], \"hsv chan 0\"), \n",
    "            (new_roi[:,:,1], \"hsv chan 1\"), \n",
    "            (new_roi[:,:,2], \"hsv chan 2\"),\n",
    "            (mask, \"mask\")\n",
    "        ], 1)\n",
    "        \n",
    "        hist = cv.calcHist([new_roi], self.config[\"channels\"], mask, MeanShift.HIST_SIZE, MeanShift.HIST_RANGE)\n",
    "        self.roi_hist = cv.normalize(hist, hist, 0, 255, cv.NORM_MINMAX)\n",
    "    \n",
    "    def predict(self, frame):\n",
    "        hsv = cv.cvtColor(frame, cv.COLOR_BGR2HSV)\n",
    "        res = cv.calcBackProject([hsv], self.config[\"channels\"], self.roi_hist, MeanShift.HIST_RANGE, MeanShift.SCALE)\n",
    "        # apply meanshift to get the new location\n",
    "        return cv.meanShift(res, self.config[\"track_window\"], MeanShift.TERMINATION_CRITERIA)\n",
    "    \n",
    "    @staticmethod\n",
    "    def run(frames, df, config, with_ground_truth=False, normalize=False):\n",
    "        # get initial roi\n",
    "        track_window = config[\"track_window\"]\n",
    "        \n",
    "        # create and fit MeanShift instance\n",
    "        mean_shift = MeanShift(frames[0], config)\n",
    "        mean_shift.fit(normalize=normalize)\n",
    "        \n",
    "        result = [enreach_single_frame_with_tracking_ractangle(frames[0], track_window, MeanShift.COLOR_RED)]\n",
    "        \n",
    "        # predict other frames\n",
    "        for frame in frames[1:]:\n",
    "            _, track_window = mean_shift.predict(frame)\n",
    "            result.append(enreach_single_frame_with_tracking_ractangle(frame, track_window, MeanShift.COLOR_RED))\n",
    "        \n",
    "        # add gound truth plots to images\n",
    "        if with_ground_truth:\n",
    "            for i, frame in enumerate(result):\n",
    "                row = df.iloc[i]\n",
    "                result[i] = enreach_single_frame_with_tracking_ractangle(\n",
    "                    frame, \n",
    "                    (row['x'], row['y'], row['w'], row['h']),\n",
    "                    MeanShift.COLOR_GREEN\n",
    "                )\n",
    "                \n",
    "        display_frames_sequence(result)\n",
    "        \n",
    "        return result"
   ]
  },
  {
   "cell_type": "code",
   "execution_count": 182,
   "metadata": {},
   "outputs": [
    {
     "data": {
      "image/png": "[encoded data removed]",
      "text/plain": [
       "<Figure size 720x360 with 1 Axes>"
      ]
     },
     "metadata": {
      "needs_background": "light"
     },
     "output_type": "display_data"
    },
    {
     "data": {
      "image/png": "[encoded data removed]",
      "text/plain": [
       "<Figure size 2592x1728 with 6 Axes>"
      ]
     },
     "metadata": {
      "needs_background": "light"
     },
     "output_type": "display_data"
    },
    {
     "data": {
      "application/vnd.jupyter.widget-view+json": {
       "model_id": "871f471b64a54ae8a5cf235135783517",
       "version_major": 2,
       "version_minor": 0
      },
      "text/plain": [
       "interactive(children=(IntSlider(value=0, description='i', max=227), Output()), _dom_classes=('widget-interact'…"
      ]
     },
     "metadata": {},
     "output_type": "display_data"
    }
   ],
   "source": [
    "config = {\n",
    "        \"track_window\": (340, 185, 35, 40),\n",
    "        \"channels\": [2],\n",
    "        \"ranges\": {\n",
    "            \"min\": (80., 80., 80.),\n",
    "            \"max\": (140., 140., 140.)\n",
    "        }\n",
    "    }\n",
    "result = MeanShift.run(mountain_bike, mountain_bike_df, config, with_ground_truth=True)"
   ]
  },
  {
   "cell_type": "markdown",
   "metadata": {},
   "source": [
    "# Cam shift"
   ]
  },
  {
   "cell_type": "code",
   "execution_count": 8,
   "metadata": {},
   "outputs": [],
   "source": [
    "class CamShift(MeanShift):\n",
    "    @staticmethod\n",
    "    def run(video, coords=[(0, 0), (0, 0)]):\n",
    "        pass"
   ]
  }
 ],
 "metadata": {
  "kernelspec": {
   "display_name": "Python 3",
   "language": "python",
   "name": "python3"
  },
  "language_info": {
   "codemirror_mode": {
    "name": "ipython",
    "version": 3
   },
   "file_extension": ".py",
   "mimetype": "text/x-python",
   "name": "python",
   "nbconvert_exporter": "python",
   "pygments_lexer": "ipython3",
   "version": "3.7.3"
  }
 },
 "nbformat": 4,
 "nbformat_minor": 2
}
